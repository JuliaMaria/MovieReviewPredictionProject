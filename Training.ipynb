{
 "cells": [
  {
   "cell_type": "code",
   "execution_count": 1,
   "metadata": {},
   "outputs": [],
   "source": [
    "import numpy as np\n",
    "import pickle\n",
    "import xgboost as xgb\n",
    "\n",
    "from sklearn.model_selection import train_test_split, GridSearchCV\n",
    "from sklearn.metrics import mean_squared_error, r2_score"
   ]
  },
  {
   "cell_type": "code",
   "execution_count": 2,
   "metadata": {},
   "outputs": [],
   "source": [
    "rand = np.random.RandomState(34215)"
   ]
  },
  {
   "cell_type": "code",
   "execution_count": 3,
   "metadata": {},
   "outputs": [],
   "source": [
    "data_new = np.load('preprocessed_data_new.npy')"
   ]
  },
  {
   "cell_type": "code",
   "execution_count": 4,
   "metadata": {},
   "outputs": [],
   "source": [
    "data = data_new"
   ]
  },
  {
   "cell_type": "code",
   "execution_count": 5,
   "metadata": {},
   "outputs": [
    {
     "data": {
      "text/plain": [
       "(array([[0.000e+00, 0.000e+00, 0.000e+00, ..., 1.240e+02, 2.015e+03,\n",
       "         6.500e+00],\n",
       "        [0.000e+00, 0.000e+00, 0.000e+00, ..., 1.200e+02, 2.015e+03,\n",
       "         7.100e+00],\n",
       "        [0.000e+00, 0.000e+00, 0.000e+00, ..., 1.190e+02, 2.015e+03,\n",
       "         6.300e+00],\n",
       "        ...,\n",
       "        [0.000e+00, 0.000e+00, 0.000e+00, ..., 1.000e+02, 1.966e+03,\n",
       "         6.700e+00],\n",
       "        [0.000e+00, 0.000e+00, 0.000e+00, ..., 9.000e+01, 1.966e+03,\n",
       "         6.100e+00],\n",
       "        [0.000e+00, 0.000e+00, 0.000e+00, ..., 7.400e+01, 1.966e+03,\n",
       "         1.500e+00]]), (5021, 1524))"
      ]
     },
     "execution_count": 5,
     "metadata": {},
     "output_type": "execute_result"
    }
   ],
   "source": [
    "data, data.shape"
   ]
  },
  {
   "cell_type": "code",
   "execution_count": 6,
   "metadata": {},
   "outputs": [],
   "source": [
    "X = data[:, :-1]\n",
    "y = data[:, -1]"
   ]
  },
  {
   "cell_type": "code",
   "execution_count": 7,
   "metadata": {},
   "outputs": [],
   "source": [
    "X_train, X_test, y_train, y_test = train_test_split(X, y, random_state=0)"
   ]
  },
  {
   "cell_type": "code",
   "execution_count": null,
   "metadata": {},
   "outputs": [],
   "source": [
    "print(\"Parameter optimization\")\n",
    "xgb_model = xgb.XGBRegressor(tree_method='gpu_hist', gpu_id=0, objective='reg:squarederror')\n",
    "clf = GridSearchCV(xgb_model,\n",
    "                   {'max_depth': [2,4,6],\n",
    "                    'n_estimators': [50,100,200],\n",
    "                    'lambda': [1, 2, 3],\n",
    "                    'alpha': [0, 1, 2],\n",
    "                    'eta': [0.3, 0.5, 0.7]},\n",
    "                    cv=3, verbose=2)\n",
    "clf.fit(X_train, y_train, verbose=False)\n",
    "print(clf.best_score_)\n",
    "print(clf.best_params_)"
   ]
  },
  {
   "cell_type": "code",
   "execution_count": 36,
   "metadata": {},
   "outputs": [],
   "source": [
    "# Best GridSearch score and params\n",
    "# 0.3274465860125423\n",
    "# {'alpha': 0, 'eta': 0.3, 'lambda': 1, 'max_depth': 4, 'n_estimators': 200}"
   ]
  },
  {
   "cell_type": "code",
   "execution_count": 15,
   "metadata": {},
   "outputs": [],
   "source": [
    "actuals = y_test"
   ]
  },
  {
   "cell_type": "code",
   "execution_count": 24,
   "metadata": {},
   "outputs": [
    {
     "name": "stdout",
     "output_type": "stream",
     "text": [
      "MSE: 0.5137510044416175\n",
      "R2: 0.312384126617107\n"
     ]
    }
   ],
   "source": [
    "predictions = clf.best_estimator_.predict(X_test)\n",
    "print('MSE: {}'.format(mean_squared_error(actuals, predictions)))\n",
    "print('R2: {}'.format(r2_score(actuals, predictions)))"
   ]
  },
  {
   "cell_type": "code",
   "execution_count": 8,
   "metadata": {},
   "outputs": [],
   "source": [
    "xg_reg = xgb.XGBRegressor(tree_method='gpu_hist', gpu_id=0, objective='reg:squarederror',\n",
    "                max_depth = 4, alpha = 0, reg_lambda = 1, eta = 0.3, n_estimators = 200)"
   ]
  },
  {
   "cell_type": "code",
   "execution_count": 9,
   "metadata": {},
   "outputs": [],
   "source": [
    "xg_reg.fit(X_train, y_train)\n",
    "preds = xg_reg.predict(X_test)"
   ]
  },
  {
   "cell_type": "code",
   "execution_count": 12,
   "metadata": {},
   "outputs": [
    {
     "name": "stdout",
     "output_type": "stream",
     "text": [
      "MSE: 0.5137510044416175\n",
      "R2: 0.312384126617107\n"
     ]
    }
   ],
   "source": [
    "print('MSE: {}'.format(mean_squared_error(actuals, preds)))\n",
    "print('R2: {}'.format(r2_score(actuals, preds)))"
   ]
  },
  {
   "cell_type": "code",
   "execution_count": 13,
   "metadata": {},
   "outputs": [
    {
     "name": "stdout",
     "output_type": "stream",
     "text": [
      "Pickling model\n"
     ]
    }
   ],
   "source": [
    "print(\"Pickling model\")\n",
    "pickle.dump(xg_reg, open(\"best_movies.pkl\", \"wb\"))\n",
    "clf2 = pickle.load(open(\"best_movies.pkl\", \"rb\"))"
   ]
  },
  {
   "cell_type": "code",
   "execution_count": null,
   "metadata": {},
   "outputs": [],
   "source": []
  }
 ],
 "metadata": {
  "kernelspec": {
   "display_name": "Python 3",
   "language": "python",
   "name": "python3"
  },
  "language_info": {
   "codemirror_mode": {
    "name": "ipython",
    "version": 3
   },
   "file_extension": ".py",
   "mimetype": "text/x-python",
   "name": "python",
   "nbconvert_exporter": "python",
   "pygments_lexer": "ipython3",
   "version": "3.7.5"
  }
 },
 "nbformat": 4,
 "nbformat_minor": 2
}
