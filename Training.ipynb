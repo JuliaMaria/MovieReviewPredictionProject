{
 "cells": [
  {
   "cell_type": "code",
   "execution_count": 14,
   "metadata": {},
   "outputs": [],
   "source": [
    "import numpy as np\n",
    "\n",
    "import xgboost as xgb"
   ]
  },
  {
   "cell_type": "code",
   "execution_count": 15,
   "metadata": {},
   "outputs": [],
   "source": [
    "data = np.load('preprocessed_data.npy')"
   ]
  },
  {
   "cell_type": "code",
   "execution_count": 16,
   "metadata": {},
   "outputs": [
    {
     "data": {
      "text/plain": [
       "(array([[   0. ,    0. ,    0. , ...,  162. , 2009. ,    7.2],\n",
       "        [   0. ,    0. ,    0. , ...,  169. , 2007. ,    6.9],\n",
       "        [   0. ,    0. ,    0. , ...,  148. , 2015. ,    6.3],\n",
       "        ...,\n",
       "        [   0. ,    0. ,    0. , ...,  111. , 1997. ,    7.4],\n",
       "        [   0. ,    0. ,    0. , ...,   77. , 2004. ,    6.9],\n",
       "        [   0. ,    0. ,    0. , ...,   81. , 1992. ,    6.6]]), (3517, 8262))"
      ]
     },
     "execution_count": 16,
     "metadata": {},
     "output_type": "execute_result"
    }
   ],
   "source": [
    "data, data.shape"
   ]
  },
  {
   "cell_type": "code",
   "execution_count": null,
   "metadata": {},
   "outputs": [],
   "source": []
  }
 ],
 "metadata": {
  "kernelspec": {
   "display_name": "Python 3",
   "language": "python",
   "name": "python3"
  },
  "language_info": {
   "codemirror_mode": {
    "name": "ipython",
    "version": 3
   },
   "file_extension": ".py",
   "mimetype": "text/x-python",
   "name": "python",
   "nbconvert_exporter": "python",
   "pygments_lexer": "ipython3",
   "version": "3.7.5"
  }
 },
 "nbformat": 4,
 "nbformat_minor": 2
}
